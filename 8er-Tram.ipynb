{
 "cells": [
  {
   "cell_type": "markdown",
   "metadata": {},
   "source": [
    "# Wie verspätet ist der neue 8er?\n",
    "Daten von Open Data Stadt Zürich\n",
    "2017: https://data.stadt-zuerich.ch/dataset/vbz_fahrzeiten_ogd_2017\n",
    "2018: https://data.stadt-zuerich.ch/dataset/vbz-fahrzeiten-ogd"
   ]
  },
  {
   "cell_type": "code",
   "execution_count": null,
   "metadata": {},
   "outputs": [],
   "source": [
    "import pandas as pd\n",
    "import requests\n",
    "import time \n",
    "import datetime\n",
    "import matplotlib\n",
    "import matplotlib.pyplot as plt\n",
    "%matplotlib inline\n",
    "from cycler import cycler\n",
    "plt.rcParams.update(\n",
    "    {'pdf.fonttype':42,\n",
    "    'ps.fonttype': 42\n",
    "})\n",
    "import numpy\n",
    "import re\n",
    "import seaborn as sns\n",
    "from matplotlib.ticker import FuncFormatter\n",
    "import glob\n",
    "from bs4 import BeautifulSoup"
   ]
  },
  {
   "cell_type": "code",
   "execution_count": null,
   "metadata": {},
   "outputs": [],
   "source": [
    "#import all filenames of the downloaded .csv from Open Data Zurich\n",
    "filenames = glob.glob('/Volumes/USB_STICK/VBZ/*.csv')\n",
    "filenames"
   ]
  },
  {
   "cell_type": "code",
   "execution_count": null,
   "metadata": {},
   "outputs": [],
   "source": [
    "df = pd.read_csv(filenames[0])\n",
    "df = df[df['linie']==8]\n",
    "\n",
    "for filename in filenames[1:]:\n",
    "    dataframes = pd.read_csv(filename)\n",
    "    dataframes = dataframes[dataframes['linie']==8]\n",
    "    #dataframe['filename'] = filename\n",
    "    df = pd.concat([df, dataframes])\n",
    "    print(filename)"
   ]
  },
  {
   "cell_type": "code",
   "execution_count": null,
   "metadata": {},
   "outputs": [],
   "source": [
    "df_acht = df"
   ]
  },
  {
   "cell_type": "code",
   "execution_count": null,
   "metadata": {},
   "outputs": [],
   "source": [
    "#soll-ist vergleich berechnen\n",
    "df_acht['differenz'] = df_acht.ist_ab_von-df_acht.soll_ab_von"
   ]
  },
  {
   "cell_type": "code",
   "execution_count": null,
   "metadata": {},
   "outputs": [],
   "source": [
    "#importiere haltestellenliste\n",
    "haltestellen = pd.read_csv('/Volumes/USB_STICK/VBZ/halte/haltestelle_2018.csv')\n",
    "haltestellen.head()"
   ]
  },
  {
   "cell_type": "code",
   "execution_count": null,
   "metadata": {},
   "outputs": [],
   "source": [
    "haltepunkte = pd.read_csv('/Volumes/USB_STICK/VBZ/halte/haltepunkt_2018.csv')"
   ]
  },
  {
   "cell_type": "code",
   "execution_count": null,
   "metadata": {},
   "outputs": [],
   "source": [
    "haltepunkte.head()"
   ]
  },
  {
   "cell_type": "code",
   "execution_count": null,
   "metadata": {},
   "outputs": [],
   "source": [
    "#merge haltestellen und haltepunkte\n",
    "df_haltestelle = df_acht.merge(haltepunkte, left_on='halt_punkt_id_von', right_on='halt_punkt_id')\n",
    "print(len(df_haltestelle))"
   ]
  },
  {
   "cell_type": "code",
   "execution_count": null,
   "metadata": {},
   "outputs": [],
   "source": [
    "df_haltestelle = df_haltestelle.merge(haltestellen, left_on='halt_id', right_on='halt_id')\n",
    "print(len(df_haltestelle))"
   ]
  },
  {
   "cell_type": "code",
   "execution_count": null,
   "metadata": {},
   "outputs": [],
   "source": [
    "df_haltestelle.head()"
   ]
  },
  {
   "cell_type": "markdown",
   "metadata": {},
   "source": [
    "#### Auswertunge der Verspätung"
   ]
  },
  {
   "cell_type": "code",
   "execution_count": null,
   "metadata": {},
   "outputs": [],
   "source": [
    "#wenn ist-wert 120 sekunden über soll wert ist = verspätet\n",
    "df_haltestelle['late'] = df_haltestelle.differenz > 119"
   ]
  },
  {
   "cell_type": "code",
   "execution_count": null,
   "metadata": {},
   "outputs": [],
   "source": [
    "df_haltestelle['late']=df_haltestelle['late'].replace(True, 1)"
   ]
  },
  {
   "cell_type": "code",
   "execution_count": null,
   "metadata": {},
   "outputs": [],
   "source": [
    "#datumsformat\n",
    "df_haltestelle['date_created']=pd.to_datetime(df_haltestelle['betriebsdatum'], format=\"%d.%m.%y\")"
   ]
  },
  {
   "cell_type": "code",
   "execution_count": null,
   "metadata": {},
   "outputs": [],
   "source": [
    "#neue datensätze für jahre\n",
    "df_haltestelle_2017 = df_haltestelle[(df_haltestelle.date_created>= \"2017-01-01\")&(df_haltestelle.date_created < \"2017-12-10\")]\n",
    "df_haltestelle_2018 = df_haltestelle[(df_haltestelle.date_created>= \"2017-12-10\")&(df_haltestelle.date_created <= \"2018-10-06\")]"
   ]
  },
  {
   "cell_type": "code",
   "execution_count": null,
   "metadata": {},
   "outputs": [],
   "source": [
    "#datensätze für die jeweilige richtung\n",
    "df_haltestelle_2017_1 = df_haltestelle_2017[df_haltestelle_2017.richtung==1]\n",
    "df_haltestelle_2017_2 = df_haltestelle_2017[df_haltestelle_2017.richtung==2]\n",
    "df_haltestelle_2018_1 = df_haltestelle_2018[df_haltestelle_2018.richtung==1]\n",
    "df_haltestelle_2018_2 = df_haltestelle_2018[df_haltestelle_2018.richtung==2]\n"
   ]
  },
  {
   "cell_type": "code",
   "execution_count": null,
   "metadata": {},
   "outputs": [],
   "source": [
    "#leeren dataframe erstellen\n",
    "haltelist = pd.DataFrame(columns=['haltestellen','j17_1','j17_2','j18_1','j18_2'])\n",
    "haltelist.head()"
   ]
  },
  {
   "cell_type": "code",
   "execution_count": null,
   "metadata": {},
   "outputs": [],
   "source": [
    "#liste der haltestellen erstellen für loop\n",
    "haltelist['haltestellen'] = list(set(df_haltestelle['halt_lang']))\n",
    "haltelist\n"
   ]
  },
  {
   "cell_type": "code",
   "execution_count": null,
   "metadata": {},
   "outputs": [],
   "source": [
    "#funktion, welche die häufigkeit der verspätung pro haltestelle berechnet\n",
    "def get_percentage(halts, data):\n",
    "    try: \n",
    "        percent = data[data.halt_lang==halts].late.value_counts('normalize').values[1]*100\n",
    "        return percent\n",
    "    except:\n",
    "        return 'error'"
   ]
  },
  {
   "cell_type": "markdown",
   "metadata": {},
   "source": [
    "###### Loop über alle DF"
   ]
  },
  {
   "cell_type": "code",
   "execution_count": null,
   "metadata": {},
   "outputs": [],
   "source": [
    "percent_list = []\n",
    "for stopp in haltelist['haltestellen']:\n",
    "        verspaetung = get_percentage(stopp,df_haltestelle_2017_1)\n",
    "        percent_list.append(verspaetung)\n",
    "haltelist['j17_1']=percent_list"
   ]
  },
  {
   "cell_type": "code",
   "execution_count": null,
   "metadata": {},
   "outputs": [],
   "source": [
    "percent_list = []\n",
    "for stopp in haltelist['haltestellen']:\n",
    "        verspaetung = get_percentage(stopp,df_haltestelle_2017_2)\n",
    "        percent_list.append(verspaetung)\n",
    "haltelist['j17_2']=percent_list"
   ]
  },
  {
   "cell_type": "code",
   "execution_count": null,
   "metadata": {},
   "outputs": [],
   "source": [
    "percent_list = []\n",
    "for stopp in haltelist['haltestellen']:\n",
    "        verspaetung = get_percentage(stopp,df_haltestelle_2018_1)\n",
    "        percent_list.append(verspaetung)\n",
    "haltelist['j18_1']=percent_list"
   ]
  },
  {
   "cell_type": "code",
   "execution_count": null,
   "metadata": {},
   "outputs": [],
   "source": [
    "percent_list = []\n",
    "for stopp in haltelist['haltestellen']:\n",
    "        verspaetung = get_percentage(stopp,df_haltestelle_2018_2)\n",
    "        percent_list.append(verspaetung)\n",
    "haltelist['j18_2']=percent_list\n"
   ]
  },
  {
   "cell_type": "code",
   "execution_count": null,
   "metadata": {},
   "outputs": [],
   "source": [
    "haltelist"
   ]
  },
  {
   "cell_type": "markdown",
   "metadata": {},
   "source": [
    "#### Hole aktuellen Haltestellenliste\n",
    "2018 Haltestellen, um Extra-, Depot- oder Umwegfahrten herauszubekommen."
   ]
  },
  {
   "cell_type": "code",
   "execution_count": null,
   "metadata": {},
   "outputs": [],
   "source": [
    "raw_html = requests.get(\"https://www.fahrplaninfo.zvv.ch/frame_linie3.php?lang=de&sel_linie=%7C01008%7C8&sel_gk=1\")\n",
    "soup_doc = BeautifulSoup(raw_html.content, \"html.parser\")\n",
    "#print(soup_doc)"
   ]
  },
  {
   "cell_type": "code",
   "execution_count": null,
   "metadata": {},
   "outputs": [],
   "source": [
    "stations = soup_doc.find_all('td')"
   ]
  },
  {
   "cell_type": "code",
   "execution_count": null,
   "metadata": {},
   "outputs": [],
   "source": [
    "haltlist_8 = [station.text for station in stations if len(station.text) > 7]\n",
    "print(len(haltlist_8))\n",
    "haltlist_8"
   ]
  },
  {
   "cell_type": "code",
   "execution_count": null,
   "metadata": {},
   "outputs": [],
   "source": [
    "haltlist_8 = haltlist_8[0:25]\n"
   ]
  },
  {
   "cell_type": "code",
   "execution_count": null,
   "metadata": {},
   "outputs": [],
   "source": [
    "#ergängzen mit zwei Haltestellen, die es 2017 noch gab\n",
    "haltlist_8.insert(-5, 'Zürich, Kunsthaus')\n",
    "haltlist_8.insert(-5, 'Zürich, Hottingerplatz')\n",
    "\n",
    "haltlist_8"
   ]
  },
  {
   "cell_type": "code",
   "execution_count": null,
   "metadata": {},
   "outputs": [],
   "source": [
    "haltlist_8 = pd.DataFrame(haltlist_8)\n",
    "haltlist_8.columns = [\"haltestelle\"]"
   ]
  },
  {
   "cell_type": "code",
   "execution_count": null,
   "metadata": {},
   "outputs": [],
   "source": [
    "#nun mergen\n",
    "verspaetungen = haltlist_8.merge(haltelist, left_on='haltestelle', right_on='haltestellen')\n",
    "verspaetungen"
   ]
  },
  {
   "cell_type": "code",
   "execution_count": null,
   "metadata": {},
   "outputs": [],
   "source": [
    "verspaetungen[['j17_1','j17_2','j18_1','j18_2']]=verspaetungen[['j17_1','j17_2','j18_1','j18_2']].replace('error', 'NA')\n",
    "verspaetungen"
   ]
  },
  {
   "cell_type": "code",
   "execution_count": null,
   "metadata": {},
   "outputs": [],
   "source": [
    "#save to csv\n",
    "#verspaetungen.to_csv('achter_verspraetungen.csv', index=False)"
   ]
  }
 ],
 "metadata": {
  "kernelspec": {
   "display_name": "Python 3",
   "language": "python",
   "name": "python3"
  },
  "language_info": {
   "codemirror_mode": {
    "name": "ipython",
    "version": 3
   },
   "file_extension": ".py",
   "mimetype": "text/x-python",
   "name": "python",
   "nbconvert_exporter": "python",
   "pygments_lexer": "ipython3",
   "version": "3.6.5"
  }
 },
 "nbformat": 4,
 "nbformat_minor": 2
}
